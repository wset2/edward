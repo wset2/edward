{
 "cells": [
  {
   "cell_type": "markdown",
   "metadata": {},
   "source": [
    "# Supervised Learning (Classification)\n",
    "\n",
    "In supervised learning, the task is to infer hidden structure from\n",
    "labeled data, comprised of training examples $\\{(x_n, y_n)\\}$.\n",
    "Classification means the output $y$ takes discrete values.\n",
    "\n",
    "We demonstrate with an example in Edward. A webpage version is available at\n",
    "http://edwardlib.org/tutorials/supervised-classification."
   ]
  },
  {
   "cell_type": "code",
   "execution_count": 1,
   "metadata": {},
   "outputs": [],
   "source": [
    "from __future__ import absolute_import\n",
    "from __future__ import division\n",
    "from __future__ import print_function\n",
    "\n",
    "import edward as ed\n",
    "import numpy as np\n",
    "import tensorflow as tf\n",
    "\n",
    "from edward.models import Bernoulli, MultivariateNormalTriL, Normal\n",
    "from edward.util import rbf\n",
    "from observations import crabs"
   ]
  },
  {
   "cell_type": "code",
   "execution_count": 2,
   "metadata": {},
   "outputs": [],
   "source": [
    "ed.set_seed(42)"
   ]
  },
  {
   "cell_type": "markdown",
   "metadata": {},
   "source": [
    "## Data\n",
    "\n",
    "Use the\n",
    "[crabs data set](https://stat.ethz.ch/R-manual/R-devel/library/MASS/html/crabs.html),\n",
    "which consists of morphological measurements on a crab species. We\n",
    "are interested in predicting whether a given crab has the color form\n",
    "blue (encoded as 0) or orange (encoded as 1). We use all the numeric features\n",
    "in the dataset."
   ]
  },
  {
   "cell_type": "code",
   "execution_count": 3,
   "metadata": {},
   "outputs": [
    {
     "name": "stdout",
     "output_type": "stream",
     "text": [
      "Number of data points: 200\n",
      "Number of features: 5\n"
     ]
    }
   ],
   "source": [
    "\n",
    "data, metadata = crabs(\"~/data\")\n",
    "X_train = data[:200, 3:]\n",
    "y_train = data[:200, 1]\n",
    "\n",
    "N = X_train.shape[0]  # number of data points\n",
    "D = X_train.shape[1]  # number of features\n",
    "\n",
    "print(\"Number of data points: {}\".format(N))\n",
    "print(\"Number of features: {}\".format(D))"
   ]
  },
  {
   "cell_type": "markdown",
   "metadata": {},
   "source": [
    "## Model\n",
    "\n",
    "A Gaussian process is a powerful object for modeling nonlinear\n",
    "relationships between pairs of random variables. It defines a distribution over\n",
    "(possibly nonlinear) functions, which can be applied for representing\n",
    "our uncertainty around the true functional relationship.\n",
    "Here we define a Gaussian process model for classification\n",
    "(Rasumussen & Williams, 2006).\n",
    "\n",
    "Formally, a distribution over functions $f:\\mathbb{R}^D\\to\\mathbb{R}$ can be specified\n",
    "by a Gaussian process\n",
    "$$\n",
    "\\begin{align*}\n",
    "  p(f)\n",
    "  &=\n",
    "  \\mathcal{GP}(f\\mid \\mathbf{0}, k(\\mathbf{x}, \\mathbf{x}^\\prime)),\n",
    "\\end{align*}\n",
    "$$\n",
    "whose mean function is the zero function, and whose covariance\n",
    "function is some kernel which describes dependence between\n",
    "any set of inputs to the function.\n",
    "\n",
    "Given a set of input-output pairs\n",
    "$\\{\\mathbf{x}_n\\in\\mathbb{R}^D,y_n\\in\\mathbb{R}\\}$,\n",
    "the likelihood can be written as a multivariate normal\n",
    "\n",
    "\\begin{align*}\n",
    "  p(\\mathbf{y})\n",
    "  &=\n",
    "  \\text{Normal}(\\mathbf{y} \\mid \\mathbf{0}, \\mathbf{K})\n",
    "\\end{align*}\n",
    "\n",
    "where $\\mathbf{K}$ is a covariance matrix given by evaluating\n",
    "$k(\\mathbf{x}_n, \\mathbf{x}_m)$ for each pair of inputs in the data\n",
    "set.\n",
    "\n",
    "The above applies directly for regression where $\\mathbb{y}$ is a\n",
    "real-valued response, but not for (binary) classification, where $\\mathbb{y}$\n",
    "is a label in $\\{0,1\\}$. To deal with classification, we interpret the\n",
    "response as latent variables which is squashed into $[0,1]$. We then\n",
    "draw from a Bernoulli to determine the label, with probability given\n",
    "by the squashed value.\n",
    "\n",
    "Define the likelihood of an observation $(\\mathbf{x}_n, y_n)$ as\n",
    "\n",
    "\\begin{align*}\n",
    "  p(y_n \\mid \\mathbf{z}, x_n)\n",
    "  &=\n",
    "  \\text{Bernoulli}(y_n \\mid \\text{logit}^{-1}(\\mathbf{x}_n^\\top \\mathbf{z})).\n",
    "\\end{align*}\n",
    "\n",
    "Define the prior to be a multivariate normal\n",
    "\n",
    "\\begin{align*}\n",
    "  p(\\mathbf{z})\n",
    "  &=\n",
    "  \\text{Normal}(\\mathbf{z} \\mid \\mathbf{0}, \\mathbf{K}),\n",
    "\\end{align*}\n",
    "\n",
    "with covariance matrix given as previously stated.\n",
    "\n",
    "Let's build the model in Edward. We use a radial basis function (RBF)\n",
    "kernel, also known as the squared exponential or exponentiated\n",
    "quadratic. It returns the kernel matrix evaluated over all pairs of\n",
    "data points; we then Cholesky decompose the matrix to parameterize the\n",
    "multivariate normal distribution."
   ]
  },
  {
   "cell_type": "code",
   "execution_count": 5,
   "metadata": {},
   "outputs": [],
   "source": [
    "K = 2    # number of classes.\n"
   ]
  },
  {
   "cell_type": "code",
   "execution_count": 9,
   "metadata": {},
   "outputs": [],
   "source": [
    "def neural_network(x):\n",
    "  h = tf.matmul(x, w_0) + b_0\n",
    "  h = tf.matmul(h, w_1) + b_1\n",
    "  return Categorical(h)"
   ]
  },
  {
   "cell_type": "code",
   "execution_count": 10,
   "metadata": {},
   "outputs": [],
   "source": [
    "from edward.models import Categorical, Normal\n"
   ]
  },
  {
   "cell_type": "code",
   "execution_count": 15,
   "metadata": {},
   "outputs": [],
   "source": [
    "# Create a placeholder to hold the data (in minibatches) in a TensorFlow graph.\n",
    "x = tf.placeholder(tf.float32, [None, D])\n",
    "\n",
    "# Normal(0,1) priors for the variables. Note that the syntax assumes TensorFlow 1.1.\n",
    "w_0 = Normal(loc=tf.zeros([D, K]), scale=tf.ones([D, K]))\n",
    "b_0 = Normal(loc=tf.zeros(K), scale=tf.ones(K))\n",
    "w_1 = Normal(loc=tf.zeros([K, K]), scale=tf.ones([K, K]))\n",
    "b_1 = Normal(loc=tf.zeros(K), scale=tf.ones(K))\n",
    "\n",
    "# Categorical likelihood for classication.\n",
    "y = Categorical(tf.matmul(tf.matmul(x,w_0)+b_0,w_1)+b_1)\n",
    "#y = Normal(loc=neural_network(x), scale=0.1 * tf.ones(N), name=\"y\")"
   ]
  },
  {
   "cell_type": "code",
   "execution_count": 16,
   "metadata": {},
   "outputs": [],
   "source": [
    "# Contruct the q(w) and q(b). in this case we assume Normal distributions.\n",
    "qw_0 = Normal(loc=tf.Variable(tf.random_normal([D, K])),\n",
    "              scale=tf.nn.softplus(tf.Variable(tf.random_normal([D, K])))) \n",
    "qb_0 = Normal(loc=tf.Variable(tf.random_normal([K])),\n",
    "              scale=tf.nn.softplus(tf.Variable(tf.random_normal([K]))))\n",
    "qw_1 = Normal(loc=tf.Variable(tf.random_normal([K, K])),\n",
    "              scale=tf.nn.softplus(tf.Variable(tf.random_normal([K, K])))) \n",
    "qb_1 = Normal(loc=tf.Variable(tf.random_normal([K])),\n",
    "              scale=tf.nn.softplus(tf.Variable(tf.random_normal([K]))))"
   ]
  },
  {
   "cell_type": "code",
   "execution_count": 17,
   "metadata": {},
   "outputs": [],
   "source": [
    "# We use a placeholder for the labels in anticipation of the traning data.\n",
    "y_ph = tf.placeholder(tf.int32, [N])\n",
    "# Define the VI inference technique, ie. minimise the KL divergence between q and p.\n",
    "inference = ed.BB_alpha({w_0: qw_0, w_1: qw_1, b_0: qb_0, b_1: qb_1}, data={x: X_train,y: y_train})\n",
    "alpha = 0.001"
   ]
  },
  {
   "cell_type": "markdown",
   "metadata": {},
   "source": [
    "Here, we define a placeholder `X`. During inference, we pass in\n",
    "the value for this placeholder according to data."
   ]
  },
  {
   "cell_type": "markdown",
   "metadata": {},
   "source": [
    "## Inference\n",
    "\n",
    "Perform variational inference.\n",
    "Define the variational model to be a fully factorized normal."
   ]
  },
  {
   "cell_type": "markdown",
   "metadata": {},
   "source": [
    "Run variational inference for `30000` iterations."
   ]
  },
  {
   "cell_type": "code",
   "execution_count": 18,
   "metadata": {},
   "outputs": [
    {
     "name": "stdout",
     "output_type": "stream",
     "text": [
      "30000/30000 [100%] ██████████████████████████████ Elapsed: 70s | Loss: 69.571\n"
     ]
    }
   ],
   "source": [
    "#inference = ed.BB_alpha({w: qw, b: qb}, data={X: X_train, y: y_train})\n",
    "inference.run(n_iter=30000,alpha=alpha)"
   ]
  },
  {
   "cell_type": "code",
   "execution_count": 1,
   "metadata": {},
   "outputs": [
    {
     "ename": "NameError",
     "evalue": "name 'ed' is not defined",
     "output_type": "error",
     "traceback": [
      "\u001b[0;31m---------------------------------------------------------------------------\u001b[0m",
      "\u001b[0;31mNameError\u001b[0m                                 Traceback (most recent call last)",
      "\u001b[0;32m<ipython-input-1-415648dbd81e>\u001b[0m in \u001b[0;36m<module>\u001b[0;34m()\u001b[0m\n\u001b[0;32m----> 1\u001b[0;31m \u001b[0med\u001b[0m\u001b[0;34m.\u001b[0m\u001b[0mevaluate\u001b[0m\u001b[0;34m(\u001b[0m\u001b[0;34m'categorical_accuracy'\u001b[0m\u001b[0;34m,\u001b[0m \u001b[0mdata\u001b[0m\u001b[0;34m=\u001b[0m\u001b[0;34m{\u001b[0m\u001b[0mx\u001b[0m\u001b[0;34m:\u001b[0m \u001b[0mX_train\u001b[0m\u001b[0;34m,\u001b[0m\u001b[0my\u001b[0m\u001b[0;34m:\u001b[0m \u001b[0my_train\u001b[0m\u001b[0;34m}\u001b[0m\u001b[0;34m)\u001b[0m\u001b[0;34m\u001b[0m\u001b[0m\n\u001b[0m",
      "\u001b[0;31mNameError\u001b[0m: name 'ed' is not defined"
     ]
    }
   ],
   "source": [
    "ed.evaluate('categorical_accuracy', data={x: X_train,y: y_train})\n"
   ]
  },
  {
   "cell_type": "markdown",
   "metadata": {},
   "source": [
    "In this case\n",
    "`KLqp` defaults to minimizing the\n",
    "$\\text{KL}(q\\|p)$ divergence measure using the reparameterization\n",
    "gradient.\n",
    "For more details on inference, see the [$\\text{KL}(q\\|p)$ tutorial](/tutorials/klqp).\n",
    "(This example happens to be slow because evaluating and inverting full\n",
    "covariances in Gaussian processes happens to be slow.)"
   ]
  },
  {
   "cell_type": "code",
   "execution_count": 21,
   "metadata": {},
   "outputs": [
    {
     "data": {
      "text/plain": [
       "dtype('float64')"
      ]
     },
     "execution_count": 21,
     "metadata": {},
     "output_type": "execute_result"
    }
   ],
   "source": [
    "X_train.dtype"
   ]
  },
  {
   "cell_type": "code",
   "execution_count": 27,
   "metadata": {},
   "outputs": [],
   "source": [
    "\n",
    "# Generate samples the posterior and store them.\n",
    "n_samples = 100\n",
    "prob_lst = []\n",
    "samples = []\n",
    "w_0_samples = []\n",
    "b_0_samples = []\n",
    "w_1_samples = []\n",
    "b_1_samples = []\n",
    "for _ in range(n_samples):\n",
    "    w_0_samp = qw_0.sample()\n",
    "    b_0_samp = qb_0.sample()\n",
    "    w_1_samp = qw_1.sample()\n",
    "    b_1_samp = qb_1.sample()\n",
    "    \n",
    "    w_0_samples.append(w_0_samp)\n",
    "    b_0_samples.append(b_0_samp)\n",
    "    w_1_samples.append(w_1_samp)\n",
    "    b_1_samples.append(b_1_samp)\n",
    "    \n",
    "    # Also compue the probabiliy of each class for each (w,b) sample.\n",
    "    prob = tf.nn.softmax(tf.matmul(tf.matmul( X_train.astype('float32'),w_0_samp ) + b_0_samp,w_1_samp)+b_1_samp)\n",
    "    prob_lst.append(prob.eval())\n",
    "    #sample = tf.concat([tf.reshape(w_samp,[-1]),b_samp],0)\n",
    "    #samples.append(sample.eval())"
   ]
  },
  {
   "cell_type": "code",
   "execution_count": 23,
   "metadata": {},
   "outputs": [],
   "source": [
    "import matplotlib.pyplot as plt"
   ]
  },
  {
   "cell_type": "markdown",
   "metadata": {},
   "source": [
    "## KLqp"
   ]
  },
  {
   "cell_type": "code",
   "execution_count": 14,
   "metadata": {},
   "outputs": [
    {
     "data": {
      "image/png": "[encoded data removed]",
      "text/plain": [
       "<matplotlib.figure.Figure at 0x7fe53d750080>"
      ]
     },
     "metadata": {},
     "output_type": "display_data"
    }
   ],
   "source": [
    "# Compute the accuracy of the model. \n",
    "# For each sample we compute the predicted class and compare with the test labels.\n",
    "# Predicted class is defined as the one which as maximum proability.\n",
    "# We perform this test for each (w,b) in the posterior giving us a set of accuracies\n",
    "# Finally we make a histogram of accuracies for the test data.\n",
    "accy_test = []\n",
    "for prob in prob_lst:\n",
    "    y_trn_prd = np.argmax(prob,axis=1).astype(np.float32)\n",
    "    acc = (y_trn_prd == y_train).mean()*100\n",
    "    accy_test.append(acc)\n",
    "\n",
    "plt.hist(accy_test,color='b')\n",
    "plt.title(\"Histogram of prediction accuracies in the MNIST test data\")\n",
    "plt.xlabel(\"Accuracy\")\n",
    "plt.ylabel(\"Frequency\")\n",
    "\n",
    "klqp = accy_test"
   ]
  },
  {
   "cell_type": "markdown",
   "metadata": {},
   "source": [
    "## BB-$\\alpha$ ; $\\alpha = 1.0$"
   ]
  },
  {
   "cell_type": "code",
   "execution_count": 18,
   "metadata": {},
   "outputs": [
    {
     "data": {
      "image/png": "[encoded data removed]",
      "text/plain": [
       "<matplotlib.figure.Figure at 0x7fe53c121e48>"
      ]
     },
     "metadata": {},
     "output_type": "display_data"
    }
   ],
   "source": [
    "# Compute the accuracy of the model. \n",
    "# For each sample we compute the predicted class and compare with the test labels.\n",
    "# Predicted class is defined as the one which as maximum proability.\n",
    "# We perform this test for each (w,b) in the posterior giving us a set of accuracies\n",
    "# Finally we make a histogram of accuracies for the test data.\n",
    "accy_test = []\n",
    "for prob in prob_lst:\n",
    "    y_trn_prd = np.argmax(prob,axis=1).astype(np.float32)\n",
    "    acc = (y_trn_prd == y_train).mean()*100\n",
    "    accy_test.append(acc)\n",
    "\n",
    "plt.hist(accy_test,color='r')\n",
    "plt.title(\"Histogram of prediction accuracies in the MNIST test data\")\n",
    "plt.xlabel(\"Accuracy\")\n",
    "plt.ylabel(\"Frequency\")\n",
    "\n",
    "alpha_10 = accy_test"
   ]
  },
  {
   "cell_type": "markdown",
   "metadata": {},
   "source": [
    "## BB-$\\alpha$ ; $\\alpha = 0.5$"
   ]
  },
  {
   "cell_type": "code",
   "execution_count": 22,
   "metadata": {},
   "outputs": [
    {
     "data": {
      "image/png": "[encoded data removed]",
      "text/plain": [
       "<matplotlib.figure.Figure at 0x7fe5313297f0>"
      ]
     },
     "metadata": {},
     "output_type": "display_data"
    }
   ],
   "source": [
    "# Compute the accuracy of the model. \n",
    "# For each sample we compute the predicted class and compare with the test labels.\n",
    "# Predicted class is defined as the one which as maximum proability.\n",
    "# We perform this test for each (w,b) in the posterior giving us a set of accuracies\n",
    "# Finally we make a histogram of accuracies for the test data.\n",
    "accy_test = []\n",
    "for prob in prob_lst:\n",
    "    y_trn_prd = np.argmax(prob,axis=1).astype(np.float32)\n",
    "    acc = (y_trn_prd == y_train).mean()*100\n",
    "    accy_test.append(acc)\n",
    "\n",
    "plt.hist(accy_test,color='g')\n",
    "plt.title(\"Histogram of prediction accuracies in the MNIST test data\")\n",
    "plt.xlabel(\"Accuracy\")\n",
    "plt.ylabel(\"Frequency\")\n",
    "\n",
    "alpha_05 = accy_test"
   ]
  },
  {
   "cell_type": "markdown",
   "metadata": {},
   "source": [
    "## BB-$\\alpha$ ; $\\alpha = 0.001$"
   ]
  },
  {
   "cell_type": "code",
   "execution_count": 28,
   "metadata": {
    "scrolled": true
   },
   "outputs": [
    {
     "data": {
      "image/png": "[encoded data removed]",
      "text/plain": [
       "<matplotlib.figure.Figure at 0x7f10678d7eb8>"
      ]
     },
     "metadata": {},
     "output_type": "display_data"
    }
   ],
   "source": [
    "# Compute the accuracy of the model. \n",
    "# For each sample we compute the predicted class and compare with the test labels.\n",
    "# Predicted class is defined as the one which as maximum proability.\n",
    "# We perform this test for each (w,b) in the posterior giving us a set of accuracies\n",
    "# Finally we make a histogram of accuracies for the test data.\n",
    "accy_test = []\n",
    "for prob in prob_lst:\n",
    "    y_trn_prd = np.argmax(prob,axis=1).astype(np.float32)\n",
    "    acc = (y_trn_prd == y_train).mean()*100\n",
    "    accy_test.append(acc)\n",
    "\n",
    "plt.hist(accy_test,color='k')\n",
    "plt.title(\"Histogram of prediction accuracies in the MNIST test data\")\n",
    "plt.xlabel(\"Accuracy\")\n",
    "plt.ylabel(\"Frequency\")\n",
    "\n",
    "alpha_001 = accy_test"
   ]
  },
  {
   "cell_type": "code",
   "execution_count": 29,
   "metadata": {},
   "outputs": [
    {
     "data": {
      "image/png": "[encoded data removed]",
      "text/plain": [
       "<matplotlib.figure.Figure at 0x7f104e329438>"
      ]
     },
     "metadata": {},
     "output_type": "display_data"
    }
   ],
   "source": [
    "x=['alpha=0.001']\n",
    "y=np.mean(accy_test)\n",
    "e=np.sqrt(np.var(accy_test))\n",
    "plt.errorbar(x, y, yerr=e, fmt='o')\n",
    "plt.show()"
   ]
  },
  {
   "cell_type": "markdown",
   "metadata": {},
   "source": [
    "## Plotting error bars"
   ]
  },
  {
   "cell_type": "code",
   "execution_count": 26,
   "metadata": {},
   "outputs": [],
   "source": [
    "c = np.stack((alpha_001,alpha_05,alpha_10,klqp))\n",
    "n = len(c)"
   ]
  },
  {
   "cell_type": "code",
   "execution_count": 28,
   "metadata": {},
   "outputs": [
    {
     "data": {
      "image/png": "[encoded data removed]",
      "text/plain": [
       "<matplotlib.figure.Figure at 0x7fe52eeccb38>"
      ]
     },
     "metadata": {},
     "output_type": "display_data"
    },
    {
     "name": "stdout",
     "output_type": "stream",
     "text": [
      "[ 89.5  96.   89.5  87.   87.   96.   95.5  84.   95.   96.   92.5  87.\n",
      "  91.5  87.   95.   88.5  78.   90.5  91.5  88.   92.   95.5  89.5  89.\n",
      "  95.5  96.   90.   89.5  94.5  96.   96.   96.   95.5  96.   95.   95.5\n",
      "  94.   95.   95.   91.5  94.5  90.5  95.   92.   96.   96.   89.5  89.5\n",
      "  94.   87.   95.   84.   94.   90.   95.5  95.5  95.   96.5  96.   96.\n",
      "  91.   92.   93.5  95.5  95.5  90.   94.   96.   92.5  96.   95.5  89.5\n",
      "  95.5  90.   93.   96.   94.   95.5  95.5  93.   95.   91.5  91.5  92.\n",
      "  89.   90.5  91.   94.5  96.   92.5  92.5  89.   95.   96.   89.5  91.5\n",
      "  91.5  96.   95.5  95. ]\n",
      "[ 89.5  96.   89.5  87.   87.   96.   95.5  84.   95.   96.   92.5  87.\n",
      "  91.5  87.   95.   88.5  78.   90.5  91.5  88.   92.   95.5  89.5  89.\n",
      "  95.5  96.   90.   89.5  94.5  96.   96.   96.   95.5  96.   95.   95.5\n",
      "  94.   95.   95.   91.5  94.5  90.5  95.   92.   96.   96.   89.5  89.5\n",
      "  94.   87.   95.   84.   94.   90.   95.5  95.5  95.   96.5  96.   96.\n",
      "  91.   92.   93.5  95.5  95.5  90.   94.   96.   92.5  96.   95.5  89.5\n",
      "  95.5  90.   93.   96.   94.   95.5  95.5  93.   95.   91.5  91.5  92.\n",
      "  89.   90.5  91.   94.5  96.   92.5  92.5  89.   95.   96.   89.5  91.5\n",
      "  91.5  96.   95.5  95. ]\n",
      "[ 96.   96.   95.   96.   95.5  92.   91.5  92.5  97.   96.   95.5  88.\n",
      "  97.   96.   92.5  92.   96.   95.5  96.5  91.5  89.   90.   89.   90.\n",
      "  85.   87.5  92.   96.   87.5  96.5  96.   96.   87.5  96.   96.5  96.\n",
      "  96.   95.5  91.5  92.5  96.   96.   97.   92.5  96.   92.   95.   92.\n",
      "  96.   95.5  91.5  96.5  96.   92.   94.5  92.   87.5  92.   89.   94.\n",
      "  96.   96.5  90.5  89.5  96.5  96.5  96.   97.   92.   89.5  95.   86.5\n",
      "  96.   96.   85.   96.5  96.5  86.   89.   96.   92.   96.   91.   96.\n",
      "  92.   96.5  92.   96.5  97.   97.   89.   96.5  96.   96.   95.5  89.5\n",
      "  91.5  94.   89.   95.5]\n",
      "[ 87.5  96.   95.5  90.   95.5  96.   95.   94.5  90.5  94.   96.   95.5\n",
      "  95.5  96.   96.   95.5  90.5  90.5  92.   95.5  96.5  95.5  96.   96.\n",
      "  93.5  96.   94.   95.   91.   96.   93.   92.5  94.5  94.   93.   91.5\n",
      "  92.   96.   96.5  93.   82.5  93.5  94.   95.5  91.5  95.5  90.5  89.5\n",
      "  94.   95.   95.5  88.5  94.   95.   94.5  96.   95.5  95.5  90.5  94.5\n",
      "  95.5  95.5  95.   86.5  95.   95.5  96.   94.   82.5  94.   94.5  95.5\n",
      "  88.   95.   96.   94.   96.5  91.   94.5  94.   96.   95.5  94.   95.\n",
      "  91.   92.   94.5  90.   90.   94.   95.5  90.5  96.5  94.   94.   96.\n",
      "  88.   95.   94.5  96. ]\n"
     ]
    },
    {
     "data": {
      "text/plain": [
       "[None, None, None, None]"
      ]
     },
     "execution_count": 28,
     "metadata": {},
     "output_type": "execute_result"
    }
   ],
   "source": [
    "x=['alpha=0.001','alpha=0.5','alpha=1.0','KLqp']\n",
    "y =[np.mean(c[i]) for i in range(0,n)]\n",
    "e =[np.sqrt(np.var((c[i]))) for i in range(0,n)]\n",
    "plt.errorbar(x, y, yerr=e, fmt='o',color='b')\n",
    "plt.show()\n",
    "\n",
    "[print(c[i]) for i in range(0,n)]"
   ]
  },
  {
   "cell_type": "code",
   "execution_count": 34,
   "metadata": {},
   "outputs": [],
   "source": [
    "d = 100.0 - c"
   ]
  },
  {
   "cell_type": "code",
   "execution_count": 35,
   "metadata": {},
   "outputs": [
    {
     "data": {
      "image/png": "[encoded data removed]",
      "text/plain": [
       "<matplotlib.figure.Figure at 0x7fe52eeb2d30>"
      ]
     },
     "metadata": {},
     "output_type": "display_data"
    },
    {
     "name": "stdout",
     "output_type": "stream",
     "text": [
      "[ 10.5   4.   10.5  13.   13.    4.    4.5  16.    5.    4.    7.5  13.\n",
      "   8.5  13.    5.   11.5  22.    9.5   8.5  12.    8.    4.5  10.5  11.\n",
      "   4.5   4.   10.   10.5   5.5   4.    4.    4.    4.5   4.    5.    4.5\n",
      "   6.    5.    5.    8.5   5.5   9.5   5.    8.    4.    4.   10.5  10.5\n",
      "   6.   13.    5.   16.    6.   10.    4.5   4.5   5.    3.5   4.    4.\n",
      "   9.    8.    6.5   4.5   4.5  10.    6.    4.    7.5   4.    4.5  10.5\n",
      "   4.5  10.    7.    4.    6.    4.5   4.5   7.    5.    8.5   8.5   8.\n",
      "  11.    9.5   9.    5.5   4.    7.5   7.5  11.    5.    4.   10.5   8.5\n",
      "   8.5   4.    4.5   5. ]\n",
      "[ 10.5   4.   10.5  13.   13.    4.    4.5  16.    5.    4.    7.5  13.\n",
      "   8.5  13.    5.   11.5  22.    9.5   8.5  12.    8.    4.5  10.5  11.\n",
      "   4.5   4.   10.   10.5   5.5   4.    4.    4.    4.5   4.    5.    4.5\n",
      "   6.    5.    5.    8.5   5.5   9.5   5.    8.    4.    4.   10.5  10.5\n",
      "   6.   13.    5.   16.    6.   10.    4.5   4.5   5.    3.5   4.    4.\n",
      "   9.    8.    6.5   4.5   4.5  10.    6.    4.    7.5   4.    4.5  10.5\n",
      "   4.5  10.    7.    4.    6.    4.5   4.5   7.    5.    8.5   8.5   8.\n",
      "  11.    9.5   9.    5.5   4.    7.5   7.5  11.    5.    4.   10.5   8.5\n",
      "   8.5   4.    4.5   5. ]\n",
      "[  4.    4.    5.    4.    4.5   8.    8.5   7.5   3.    4.    4.5  12.\n",
      "   3.    4.    7.5   8.    4.    4.5   3.5   8.5  11.   10.   11.   10.\n",
      "  15.   12.5   8.    4.   12.5   3.5   4.    4.   12.5   4.    3.5   4.\n",
      "   4.    4.5   8.5   7.5   4.    4.    3.    7.5   4.    8.    5.    8.\n",
      "   4.    4.5   8.5   3.5   4.    8.    5.5   8.   12.5   8.   11.    6.\n",
      "   4.    3.5   9.5  10.5   3.5   3.5   4.    3.    8.   10.5   5.   13.5\n",
      "   4.    4.   15.    3.5   3.5  14.   11.    4.    8.    4.    9.    4.\n",
      "   8.    3.5   8.    3.5   3.    3.   11.    3.5   4.    4.    4.5  10.5\n",
      "   8.5   6.   11.    4.5]\n",
      "[ 12.5   4.    4.5  10.    4.5   4.    5.    5.5   9.5   6.    4.    4.5\n",
      "   4.5   4.    4.    4.5   9.5   9.5   8.    4.5   3.5   4.5   4.    4.\n",
      "   6.5   4.    6.    5.    9.    4.    7.    7.5   5.5   6.    7.    8.5\n",
      "   8.    4.    3.5   7.   17.5   6.5   6.    4.5   8.5   4.5   9.5  10.5\n",
      "   6.    5.    4.5  11.5   6.    5.    5.5   4.    4.5   4.5   9.5   5.5\n",
      "   4.5   4.5   5.   13.5   5.    4.5   4.    6.   17.5   6.    5.5   4.5\n",
      "  12.    5.    4.    6.    3.5   9.    5.5   6.    4.    4.5   6.    5.\n",
      "   9.    8.    5.5  10.   10.    6.    4.5   9.5   3.5   6.    6.    4.\n",
      "  12.    5.    5.5   4. ]\n"
     ]
    },
    {
     "data": {
      "text/plain": [
       "[None, None, None, None]"
      ]
     },
     "execution_count": 35,
     "metadata": {},
     "output_type": "execute_result"
    }
   ],
   "source": [
    "x=['alpha=0.001','alpha=0.5','alpha=1.0','KLqp']\n",
    "y2 =[np.mean(d[i]) for i in range(0,n)]\n",
    "e2 =[np.sqrt(np.var((d[i]))) for i in range(0,n)]\n",
    "plt.errorbar(x, y2, yerr=e2, fmt='o',color='b')\n",
    "plt.show()\n",
    "\n",
    "[print(d[i]) for i in range(0,n)]"
   ]
  },
  {
   "cell_type": "code",
   "execution_count": null,
   "metadata": {},
   "outputs": [],
   "source": []
  }
 ],
 "metadata": {
  "anaconda-cloud": {},
  "kernelspec": {
   "display_name": "Python 3",
   "language": "python",
   "name": "python3"
  },
  "language_info": {
   "codemirror_mode": {
    "name": "ipython",
    "version": 3
   },
   "file_extension": ".py",
   "mimetype": "text/x-python",
   "name": "python",
   "nbconvert_exporter": "python",
   "pygments_lexer": "ipython3",
   "version": "3.5.2"
  }
 },
 "nbformat": 4,
 "nbformat_minor": 1
}
