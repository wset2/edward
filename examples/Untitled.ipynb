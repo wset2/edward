{
 "cells": [
  {
   "cell_type": "code",
   "execution_count": 1,
   "metadata": {},
   "outputs": [],
   "source": [
    "duck = 23.5\n",
    "vegetables = 28.45\n",
    "hotpot_stuff = 29.38+74.71+21.05\n",
    "\n",
    "early_ppl = 16.0\n",
    "late_ppl = 3.0"
   ]
  },
  {
   "cell_type": "code",
   "execution_count": 2,
   "metadata": {},
   "outputs": [
    {
     "name": "stdout",
     "output_type": "stream",
     "text": [
      "£  177.08999999999997\n"
     ]
    }
   ],
   "source": [
    "total = duck+vegetables+hotpot_stuff\n",
    "print('£ ',total)"
   ]
  },
  {
   "cell_type": "code",
   "execution_count": 3,
   "metadata": {},
   "outputs": [
    {
     "name": "stdout",
     "output_type": "stream",
     "text": [
      "£  10.11942857142857\n"
     ]
    }
   ],
   "source": [
    "perpax = total/(early_ppl+late_ppl*0.5)\n",
    "print('£ ',perpax)"
   ]
  }
 ],
 "metadata": {
  "kernelspec": {
   "display_name": "Python 3",
   "language": "python",
   "name": "python3"
  },
  "language_info": {
   "codemirror_mode": {
    "name": "ipython",
    "version": 3
   },
   "file_extension": ".py",
   "mimetype": "text/x-python",
   "name": "python",
   "nbconvert_exporter": "python",
   "pygments_lexer": "ipython3",
   "version": "3.5.2"
  }
 },
 "nbformat": 4,
 "nbformat_minor": 2
}
